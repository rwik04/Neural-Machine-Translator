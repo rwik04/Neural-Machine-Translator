{
  "nbformat": 4,
  "nbformat_minor": 0,
  "metadata": {
    "kernelspec": {
      "language": "python",
      "display_name": "Python 3",
      "name": "python3"
    },
    "language_info": {
      "name": "python",
      "version": "3.7.10",
      "mimetype": "text/x-python",
      "codemirror_mode": {
        "name": "ipython",
        "version": 3
      },
      "pygments_lexer": "ipython3",
      "nbconvert_exporter": "python",
      "file_extension": ".py"
    },
    "colab": {
      "provenance": []
    },
    "accelerator": "GPU"
  },
  "cells": [
    {
      "cell_type": "code",
      "metadata": {
        "id": "tmYJBBbwyiX3"
      },
      "source": [
        "import os"
      ],
      "execution_count": null,
      "outputs": []
    },
    {
      "cell_type": "markdown",
      "metadata": {
        "id": "k1hOFHi-x5UZ"
      },
      "source": [
        "# Install required packages"
      ]
    },
    {
      "cell_type": "code",
      "metadata": {
        "execution": {
          "iopub.status.busy": "2021-09-29T08:56:53.223644Z",
          "iopub.execute_input": "2021-09-29T08:56:53.224201Z",
          "iopub.status.idle": "2021-09-29T08:57:00.101672Z",
          "shell.execute_reply.started": "2021-09-29T08:56:53.224163Z",
          "shell.execute_reply": "2021-09-29T08:57:00.100739Z"
        },
        "trusted": true,
        "colab": {
          "base_uri": "https://localhost:8080/"
        },
        "id": "SqADZ2Sgx5Ua",
        "outputId": "7fa531bf-1d09-4610-d56f-48018e56bbc7"
      },
      "source": [
        "! pip install datasets transformers sacrebleu torch sentencepiece transformers[sentencepiece]"
      ],
      "execution_count": null,
      "outputs": [
        {
          "output_type": "stream",
          "name": "stdout",
          "text": [
            "Requirement already satisfied: datasets in /usr/local/lib/python3.10/dist-packages (2.15.0)\n",
            "Requirement already satisfied: transformers in /usr/local/lib/python3.10/dist-packages (4.35.2)\n",
            "Requirement already satisfied: sacrebleu in /usr/local/lib/python3.10/dist-packages (2.3.3)\n",
            "Requirement already satisfied: torch in /usr/local/lib/python3.10/dist-packages (2.1.0+cu118)\n",
            "Requirement already satisfied: sentencepiece in /usr/local/lib/python3.10/dist-packages (0.1.99)\n",
            "Requirement already satisfied: numpy>=1.17 in /usr/local/lib/python3.10/dist-packages (from datasets) (1.23.5)\n",
            "Requirement already satisfied: pyarrow>=8.0.0 in /usr/local/lib/python3.10/dist-packages (from datasets) (9.0.0)\n",
            "Requirement already satisfied: pyarrow-hotfix in /usr/local/lib/python3.10/dist-packages (from datasets) (0.6)\n",
            "Requirement already satisfied: dill<0.3.8,>=0.3.0 in /usr/local/lib/python3.10/dist-packages (from datasets) (0.3.7)\n",
            "Requirement already satisfied: pandas in /usr/local/lib/python3.10/dist-packages (from datasets) (1.5.3)\n",
            "Requirement already satisfied: requests>=2.19.0 in /usr/local/lib/python3.10/dist-packages (from datasets) (2.31.0)\n",
            "Requirement already satisfied: tqdm>=4.62.1 in /usr/local/lib/python3.10/dist-packages (from datasets) (4.66.1)\n",
            "Requirement already satisfied: xxhash in /usr/local/lib/python3.10/dist-packages (from datasets) (3.4.1)\n",
            "Requirement already satisfied: multiprocess in /usr/local/lib/python3.10/dist-packages (from datasets) (0.70.15)\n",
            "Requirement already satisfied: fsspec[http]<=2023.10.0,>=2023.1.0 in /usr/local/lib/python3.10/dist-packages (from datasets) (2023.6.0)\n",
            "Requirement already satisfied: aiohttp in /usr/local/lib/python3.10/dist-packages (from datasets) (3.9.1)\n",
            "Requirement already satisfied: huggingface-hub>=0.18.0 in /usr/local/lib/python3.10/dist-packages (from datasets) (0.19.4)\n",
            "Requirement already satisfied: packaging in /usr/local/lib/python3.10/dist-packages (from datasets) (23.2)\n",
            "Requirement already satisfied: pyyaml>=5.1 in /usr/local/lib/python3.10/dist-packages (from datasets) (6.0.1)\n",
            "Requirement already satisfied: filelock in /usr/local/lib/python3.10/dist-packages (from transformers) (3.13.1)\n",
            "Requirement already satisfied: regex!=2019.12.17 in /usr/local/lib/python3.10/dist-packages (from transformers) (2023.6.3)\n",
            "Requirement already satisfied: tokenizers<0.19,>=0.14 in /usr/local/lib/python3.10/dist-packages (from transformers) (0.15.0)\n",
            "Requirement already satisfied: safetensors>=0.3.1 in /usr/local/lib/python3.10/dist-packages (from transformers) (0.4.1)\n",
            "Requirement already satisfied: portalocker in /usr/local/lib/python3.10/dist-packages (from sacrebleu) (2.8.2)\n",
            "Requirement already satisfied: tabulate>=0.8.9 in /usr/local/lib/python3.10/dist-packages (from sacrebleu) (0.9.0)\n",
            "Requirement already satisfied: colorama in /usr/local/lib/python3.10/dist-packages (from sacrebleu) (0.4.6)\n",
            "Requirement already satisfied: lxml in /usr/local/lib/python3.10/dist-packages (from sacrebleu) (4.9.3)\n",
            "Requirement already satisfied: typing-extensions in /usr/local/lib/python3.10/dist-packages (from torch) (4.5.0)\n",
            "Requirement already satisfied: sympy in /usr/local/lib/python3.10/dist-packages (from torch) (1.12)\n",
            "Requirement already satisfied: networkx in /usr/local/lib/python3.10/dist-packages (from torch) (3.2.1)\n",
            "Requirement already satisfied: jinja2 in /usr/local/lib/python3.10/dist-packages (from torch) (3.1.2)\n",
            "Requirement already satisfied: triton==2.1.0 in /usr/local/lib/python3.10/dist-packages (from torch) (2.1.0)\n",
            "Requirement already satisfied: protobuf in /usr/local/lib/python3.10/dist-packages (from transformers) (3.20.3)\n",
            "Requirement already satisfied: attrs>=17.3.0 in /usr/local/lib/python3.10/dist-packages (from aiohttp->datasets) (23.1.0)\n",
            "Requirement already satisfied: multidict<7.0,>=4.5 in /usr/local/lib/python3.10/dist-packages (from aiohttp->datasets) (6.0.4)\n",
            "Requirement already satisfied: yarl<2.0,>=1.0 in /usr/local/lib/python3.10/dist-packages (from aiohttp->datasets) (1.9.3)\n",
            "Requirement already satisfied: frozenlist>=1.1.1 in /usr/local/lib/python3.10/dist-packages (from aiohttp->datasets) (1.4.0)\n",
            "Requirement already satisfied: aiosignal>=1.1.2 in /usr/local/lib/python3.10/dist-packages (from aiohttp->datasets) (1.3.1)\n",
            "Requirement already satisfied: async-timeout<5.0,>=4.0 in /usr/local/lib/python3.10/dist-packages (from aiohttp->datasets) (4.0.3)\n",
            "Requirement already satisfied: charset-normalizer<4,>=2 in /usr/local/lib/python3.10/dist-packages (from requests>=2.19.0->datasets) (3.3.2)\n",
            "Requirement already satisfied: idna<4,>=2.5 in /usr/local/lib/python3.10/dist-packages (from requests>=2.19.0->datasets) (3.6)\n",
            "Requirement already satisfied: urllib3<3,>=1.21.1 in /usr/local/lib/python3.10/dist-packages (from requests>=2.19.0->datasets) (2.0.7)\n",
            "Requirement already satisfied: certifi>=2017.4.17 in /usr/local/lib/python3.10/dist-packages (from requests>=2.19.0->datasets) (2023.11.17)\n",
            "Requirement already satisfied: MarkupSafe>=2.0 in /usr/local/lib/python3.10/dist-packages (from jinja2->torch) (2.1.3)\n",
            "Requirement already satisfied: python-dateutil>=2.8.1 in /usr/local/lib/python3.10/dist-packages (from pandas->datasets) (2.8.2)\n",
            "Requirement already satisfied: pytz>=2020.1 in /usr/local/lib/python3.10/dist-packages (from pandas->datasets) (2023.3.post1)\n",
            "Requirement already satisfied: mpmath>=0.19 in /usr/local/lib/python3.10/dist-packages (from sympy->torch) (1.3.0)\n",
            "Requirement already satisfied: six>=1.5 in /usr/local/lib/python3.10/dist-packages (from python-dateutil>=2.8.1->pandas->datasets) (1.16.0)\n"
          ]
        }
      ]
    },
    {
      "cell_type": "markdown",
      "metadata": {
        "id": "qN5RtJdM8xi5"
      },
      "source": [
        "Make sure your version of Transformers is at least 4.11.0 since the functionality was introduced in that version"
      ]
    },
    {
      "cell_type": "code",
      "metadata": {
        "execution": {
          "iopub.status.busy": "2021-09-29T08:57:00.104182Z",
          "iopub.execute_input": "2021-09-29T08:57:00.104596Z",
          "iopub.status.idle": "2021-09-29T08:57:00.284764Z",
          "shell.execute_reply.started": "2021-09-29T08:57:00.104552Z",
          "shell.execute_reply": "2021-09-29T08:57:00.283961Z"
        },
        "trusted": true,
        "colab": {
          "base_uri": "https://localhost:8080/"
        },
        "id": "5xKFwtNEx5Uc",
        "outputId": "73a969c3-aaeb-47ba-8eeb-b32fbd2f9c3e"
      },
      "source": [
        "import transformers\n",
        "print(transformers.__version__)"
      ],
      "execution_count": null,
      "outputs": [
        {
          "output_type": "stream",
          "name": "stdout",
          "text": [
            "4.35.2\n"
          ]
        }
      ]
    },
    {
      "cell_type": "markdown",
      "metadata": {
        "id": "DKkJGYY19I11"
      },
      "source": [
        "# Fine-tuning a model on a translation task"
      ]
    },
    {
      "cell_type": "markdown",
      "metadata": {
        "id": "AT9VnMFn9O0_"
      },
      "source": [
        "In this notebook, we will see how to fine-tune one of the hugging-face Transformers model for a english to german translation task. We will use the WMT dataset, a machine translation dataset composed from a collection of various sources, including news commentaries and parliament proceedings.\n",
        "\n",
        "Below is the example translation text using pre-trained model\n",
        "\n",
        "Reference : https://huggingface.co/Helsinki-NLP/opus-mt-en-de\n",
        "\n",
        "![Screenshot (87).png](data:image/png;base64,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)\n"
      ]
    },
    {
      "cell_type": "markdown",
      "metadata": {
        "id": "wks6Nz8Z-3Qf"
      },
      "source": [
        "We will see how to easily load the dataset for this task using Datasets and how to fine-tune a model on it using the Trainer API\n",
        "\n",
        "This notebook is built to run with any model checkpoint from the Model Hub as long as that model has a sequence-to-sequence version in the Transformers library. Here we picked the Helsinki-NLP/opus-mt-en-de checkpoint.\n",
        "**[You may not download the model when you working in private cloud, we can download model from Files and versions tab.]**\n",
        "\n"
      ]
    },
    {
      "cell_type": "code",
      "metadata": {
        "execution": {
          "iopub.status.busy": "2021-09-29T08:57:00.286261Z",
          "iopub.execute_input": "2021-09-29T08:57:00.286818Z",
          "iopub.status.idle": "2021-09-29T08:57:00.290815Z",
          "shell.execute_reply.started": "2021-09-29T08:57:00.286782Z",
          "shell.execute_reply": "2021-09-29T08:57:00.289918Z"
        },
        "trusted": true,
        "id": "MX7DsEmOx5Ud"
      },
      "source": [
        "model_checkpoint = \"Helsinki-NLP/opus-mt-en-de\""
      ],
      "execution_count": null,
      "outputs": []
    },
    {
      "cell_type": "markdown",
      "metadata": {
        "id": "Fu45aGHIAQqM"
      },
      "source": [
        "### Loading the dataset\n",
        "\n",
        "We will use the [datasets](https://github.com/huggingface/datasets/tree/master/datasets/wmt16) library to download the data and get the metric we need to use for evaluation (to compare our model to the benchmark). This can be easily done with the functions load_dataset and load_metric. We use the English/German part of the WMT dataset here"
      ]
    },
    {
      "cell_type": "code",
      "metadata": {
        "execution": {
          "iopub.status.busy": "2021-09-29T08:57:00.292918Z",
          "iopub.execute_input": "2021-09-29T08:57:00.293349Z",
          "iopub.status.idle": "2021-09-29T08:57:05.139984Z",
          "shell.execute_reply.started": "2021-09-29T08:57:00.293314Z",
          "shell.execute_reply": "2021-09-29T08:57:05.139187Z"
        },
        "trusted": true,
        "colab": {
          "base_uri": "https://localhost:8080/"
        },
        "id": "biPo8vFTx5Ue",
        "outputId": "46927c6d-72a6-4545-a045-76061e03df0c"
      },
      "source": [
        "from datasets import load_dataset, load_metric\n",
        "raw_datasets = load_dataset(\"wmt16\", \"de-en\")\n",
        "metric = load_metric(\"sacrebleu\")"
      ],
      "execution_count": null,
      "outputs": [
        {
          "output_type": "stream",
          "name": "stderr",
          "text": [
            "<ipython-input-5-b496ea293c11>:3: FutureWarning: load_metric is deprecated and will be removed in the next major version of datasets. Use 'evaluate.load' instead, from the new library 🤗 Evaluate: https://huggingface.co/docs/evaluate\n",
            "  metric = load_metric(\"sacrebleu\")\n"
          ]
        }
      ]
    },
    {
      "cell_type": "markdown",
      "metadata": {
        "id": "-LqXNw9_BFQe"
      },
      "source": [
        "The dataset object itself is [datasetdict](https://huggingface.co/docs/datasets/package_reference/main_classes.html#datasetdict), which contains one key for the training, validation and test set:"
      ]
    },
    {
      "cell_type": "code",
      "metadata": {
        "execution": {
          "iopub.status.busy": "2021-09-29T08:57:05.146588Z",
          "iopub.execute_input": "2021-09-29T08:57:05.147453Z",
          "iopub.status.idle": "2021-09-29T08:57:05.159295Z",
          "shell.execute_reply.started": "2021-09-29T08:57:05.147411Z",
          "shell.execute_reply": "2021-09-29T08:57:05.158274Z"
        },
        "trusted": true,
        "colab": {
          "base_uri": "https://localhost:8080/"
        },
        "id": "379sQa4Ix5Uf",
        "outputId": "984db6d1-5c5f-4830-9849-8c7b5828ba9a"
      },
      "source": [
        "raw_datasets"
      ],
      "execution_count": null,
      "outputs": [
        {
          "output_type": "execute_result",
          "data": {
            "text/plain": [
              "DatasetDict({\n",
              "    train: Dataset({\n",
              "        features: ['translation'],\n",
              "        num_rows: 4548885\n",
              "    })\n",
              "    validation: Dataset({\n",
              "        features: ['translation'],\n",
              "        num_rows: 2169\n",
              "    })\n",
              "    test: Dataset({\n",
              "        features: ['translation'],\n",
              "        num_rows: 2999\n",
              "    })\n",
              "})"
            ]
          },
          "metadata": {},
          "execution_count": 6
        }
      ]
    },
    {
      "cell_type": "code",
      "metadata": {
        "execution": {
          "iopub.status.busy": "2021-09-29T08:57:05.160565Z",
          "iopub.execute_input": "2021-09-29T08:57:05.160765Z",
          "iopub.status.idle": "2021-09-29T08:57:05.173150Z",
          "shell.execute_reply.started": "2021-09-29T08:57:05.160744Z",
          "shell.execute_reply": "2021-09-29T08:57:05.172261Z"
        },
        "trusted": true,
        "colab": {
          "base_uri": "https://localhost:8080/"
        },
        "id": "Nkiu4ITXx5Ug",
        "outputId": "daeb8a8b-69a7-49cb-ad29-7c2d4f01331b"
      },
      "source": [
        "print(\"Format of the dataset\")\n",
        "for i in range(10):\n",
        "  print(raw_datasets[\"train\"][i])\n",
        "  print('\\n')"
      ],
      "execution_count": null,
      "outputs": [
        {
          "output_type": "stream",
          "name": "stdout",
          "text": [
            "Format of the dataset\n",
            "{'translation': {'de': 'Wiederaufnahme der Sitzungsperiode', 'en': 'Resumption of the session'}}\n",
            "\n",
            "\n",
            "{'translation': {'de': 'Ich erkläre die am Freitag, dem 17. Dezember unterbrochene Sitzungsperiode des Europäischen Parlaments für wiederaufgenommen, wünsche Ihnen nochmals alles Gute zum Jahreswechsel und hoffe, daß Sie schöne Ferien hatten.', 'en': 'I declare resumed the session of the European Parliament adjourned on Friday 17 December 1999, and I would like once again to wish you a happy new year in the hope that you enjoyed a pleasant festive period.'}}\n",
            "\n",
            "\n",
            "{'translation': {'de': 'Wie Sie feststellen konnten, ist der gefürchtete \"Millenium-Bug \" nicht eingetreten. Doch sind Bürger einiger unserer Mitgliedstaaten Opfer von schrecklichen Naturkatastrophen geworden.', 'en': \"Although, as you will have seen, the dreaded 'millennium bug' failed to materialise, still the people in a number of countries suffered a series of natural disasters that truly were dreadful.\"}}\n",
            "\n",
            "\n",
            "{'translation': {'de': 'Im Parlament besteht der Wunsch nach einer Aussprache im Verlauf dieser Sitzungsperiode in den nächsten Tagen.', 'en': 'You have requested a debate on this subject in the course of the next few days, during this part-session.'}}\n",
            "\n",
            "\n",
            "{'translation': {'de': 'Heute möchte ich Sie bitten - das ist auch der Wunsch einiger Kolleginnen und Kollegen -, allen Opfern der Stürme, insbesondere in den verschiedenen Ländern der Europäischen Union, in einer Schweigeminute zu gedenken.', 'en': \"In the meantime, I should like to observe a minute' s silence, as a number of Members have requested, on behalf of all the victims concerned, particularly those of the terrible storms, in the various countries of the European Union.\"}}\n",
            "\n",
            "\n",
            "{'translation': {'de': 'Ich bitte Sie, sich zu einer Schweigeminute zu erheben.', 'en': \"Please rise, then, for this minute' s silence.\"}}\n",
            "\n",
            "\n",
            "{'translation': {'de': '(Das Parlament erhebt sich zu einer Schweigeminute.)', 'en': \"(The House rose and observed a minute' s silence)\"}}\n",
            "\n",
            "\n",
            "{'translation': {'de': 'Frau Präsidentin, zur Geschäftsordnung.', 'en': 'Madam President, on a point of order.'}}\n",
            "\n",
            "\n",
            "{'translation': {'de': 'Wie Sie sicher aus der Presse und dem Fernsehen wissen, gab es in Sri Lanka mehrere Bombenexplosionen mit zahlreichen Toten.', 'en': 'You will be aware from the press and television that there have been a number of bomb explosions and killings in Sri Lanka.'}}\n",
            "\n",
            "\n",
            "{'translation': {'de': 'Zu den Attentatsopfern, die es in jüngster Zeit in Sri Lanka zu beklagen gab, zählt auch Herr Kumar Ponnambalam, der dem Europäischen Parlament erst vor wenigen Monaten einen Besuch abgestattet hatte.', 'en': 'One of the people assassinated very recently in Sri Lanka was Mr Kumar Ponnambalam, who had visited the European Parliament just a few months ago.'}}\n",
            "\n",
            "\n"
          ]
        }
      ]
    },
    {
      "cell_type": "markdown",
      "metadata": {
        "id": "_6hsuFL1Bwa6"
      },
      "source": [
        "To get a sense of how the data looks like, the following function will show some examples picked randomly in the dataset."
      ]
    },
    {
      "cell_type": "code",
      "metadata": {
        "execution": {
          "iopub.status.busy": "2021-09-29T08:57:05.175034Z",
          "iopub.execute_input": "2021-09-29T08:57:05.175980Z",
          "iopub.status.idle": "2021-09-29T08:57:05.225540Z",
          "shell.execute_reply.started": "2021-09-29T08:57:05.175943Z",
          "shell.execute_reply": "2021-09-29T08:57:05.224872Z"
        },
        "trusted": true,
        "colab": {
          "base_uri": "https://localhost:8080/",
          "height": 345
        },
        "id": "1OE_CXoxx5Uh",
        "outputId": "2e66230b-fc31-40f0-c9c6-e296d9a0a840"
      },
      "source": [
        "import datasets\n",
        "import random\n",
        "import pandas as pd\n",
        "from IPython.display import display, HTML\n",
        "def show_random_elements(dataset, num_examples=5):\n",
        "    assert num_examples <= len(dataset), \"Can't pick more elements than there are in the dataset.\"\n",
        "    picks = []\n",
        "    for _ in range(num_examples):\n",
        "        pick = random.randint(0, len(dataset)-1)\n",
        "        while pick in picks:\n",
        "            pick = random.randint(0, len(dataset)-1)\n",
        "        picks.append(pick)\n",
        "\n",
        "    df = pd.DataFrame(dataset[picks])\n",
        "    for column, typ in dataset.features.items():\n",
        "        if isinstance(typ, datasets.ClassLabel):\n",
        "            df[column] = df[column].transform(lambda i: typ.names[i])\n",
        "    display(HTML(df.to_html()))\n",
        "show_random_elements(raw_datasets[\"train\"])"
      ],
      "execution_count": null,
      "outputs": [
        {
          "output_type": "display_data",
          "data": {
            "text/plain": [
              "<IPython.core.display.HTML object>"
            ],
            "text/html": [
              "<table border=\"1\" class=\"dataframe\">\n",
              "  <thead>\n",
              "    <tr style=\"text-align: right;\">\n",
              "      <th></th>\n",
              "      <th>translation</th>\n",
              "    </tr>\n",
              "  </thead>\n",
              "  <tbody>\n",
              "    <tr>\n",
              "      <th>0</th>\n",
              "      <td>{'de': 'Ecole du Tourisme et de l'Hôtellerie : de 1 à 3 ans pour exercer un métier dans le Tourisme et /ou l'hôtellerie.', 'en': 'Portail du tourisme au Maroc : actualité, dossiers, interviews, revue de Presse ... la 9è édition du Trophée \"Roses des Sables\" qui s'est déroulée en octobre dernier au Maroc ...'}</td>\n",
              "    </tr>\n",
              "    <tr>\n",
              "      <th>1</th>\n",
              "      <td>{'de': 'Im Schatten des Langkofels durchkehren wir die steinerne Stadt bis zum Rifugio Comici, eine einladende Berghütte für eine Pause.', 'en': 'In the shadow of the Sassolungo we ride across the City of Stones reaching the Rifugio Comici, an inviting hut for taking a rest.'}</td>\n",
              "    </tr>\n",
              "    <tr>\n",
              "      <th>2</th>\n",
              "      <td>{'de': 'Hier als erstes die Geschichte, wie sie real sein könnte mit der Untersuchung, mit Ultraschall Sonde anal und Fingerclip mit Pulsoxiometer.', 'en': 'I have to undress and lay down on the gyntable, got a fingerclip from the pulsoximeter and the ultrasound stick in my ass.'}</td>\n",
              "    </tr>\n",
              "    <tr>\n",
              "      <th>3</th>\n",
              "      <td>{'de': 'Insbesondere durch Bündelung von mehreren UMTS-Zugängen verschiedener Netzanbieter wird es damit erstmals möglich, Software as a Service auch mobil über UMTS-Netze zu betreiben.', 'en': 'Especially through bundling several UMTS/3G connections of different providers the reliable mobile operation of SaaS on UMTS/3G devices solutions is possible for the first time.'}</td>\n",
              "    </tr>\n",
              "    <tr>\n",
              "      <th>4</th>\n",
              "      <td>{'de': 'ie Grundwahrheiten der Scientology-Religion wirken sich auf jeden Aspekt des Lebens aus  die Gestaltung harmonischer Beziehungen, die Lösung von familiären Konflikten, effektive Kommunikation am Arbeitsplatz, wie man mit Stress fertig wird und vieles andere mehr. All das entdeckt man auf dem Weg zu völliger spiritueller Freiheit.', 'en': 'he fundamentals of the Scientology religion apply to every aspect of life  creating successful relationships, dealing with stress, communicating with others and resolving family problems and more, all on the road to true spiritual freedom.'}</td>\n",
              "    </tr>\n",
              "  </tbody>\n",
              "</table>"
            ]
          },
          "metadata": {}
        }
      ]
    },
    {
      "cell_type": "code",
      "metadata": {
        "execution": {
          "iopub.status.busy": "2021-09-29T08:57:05.227184Z",
          "iopub.execute_input": "2021-09-29T08:57:05.227903Z",
          "iopub.status.idle": "2021-09-29T08:57:05.234679Z",
          "shell.execute_reply.started": "2021-09-29T08:57:05.227867Z",
          "shell.execute_reply": "2021-09-29T08:57:05.233826Z"
        },
        "trusted": true,
        "colab": {
          "base_uri": "https://localhost:8080/"
        },
        "id": "oAHbdQH5x5Ui",
        "outputId": "995f8523-f6b8-4644-dbd3-402c37b45704"
      },
      "source": [
        "metric"
      ],
      "execution_count": null,
      "outputs": [
        {
          "output_type": "execute_result",
          "data": {
            "text/plain": [
              "Metric(name: \"sacrebleu\", features: {'predictions': Value(dtype='string', id='sequence'), 'references': Sequence(feature=Value(dtype='string', id='sequence'), length=-1, id='references')}, usage: \"\"\"\n",
              "Produces BLEU scores along with its sufficient statistics\n",
              "from a source against one or more references.\n",
              "\n",
              "Args:\n",
              "    predictions (`list` of `str`): list of translations to score. Each translation should be tokenized into a list of tokens.\n",
              "    references (`list` of `list` of `str`): A list of lists of references. The contents of the first sub-list are the references for the first prediction, the contents of the second sub-list are for the second prediction, etc. Note that there must be the same number of references for each prediction (i.e. all sub-lists must be of the same length).\n",
              "    smooth_method (`str`): The smoothing method to use, defaults to `'exp'`. Possible values are:\n",
              "        - `'none'`: no smoothing\n",
              "        - `'floor'`: increment zero counts\n",
              "        - `'add-k'`: increment num/denom by k for n>1\n",
              "        - `'exp'`: exponential decay\n",
              "    smooth_value (`float`): The smoothing value. Only valid when `smooth_method='floor'` (in which case `smooth_value` defaults to `0.1`) or `smooth_method='add-k'` (in which case `smooth_value` defaults to `1`).\n",
              "    tokenize (`str`): Tokenization method to use for BLEU. If not provided, defaults to `'zh'` for Chinese, `'ja-mecab'` for Japanese and `'13a'` (mteval) otherwise. Possible values are:\n",
              "        - `'none'`: No tokenization.\n",
              "        - `'zh'`: Chinese tokenization.\n",
              "        - `'13a'`: mimics the `mteval-v13a` script from Moses.\n",
              "        - `'intl'`: International tokenization, mimics the `mteval-v14` script from Moses\n",
              "        - `'char'`: Language-agnostic character-level tokenization.\n",
              "        - `'ja-mecab'`: Japanese tokenization. Uses the [MeCab tokenizer](https://pypi.org/project/mecab-python3).\n",
              "    lowercase (`bool`): If `True`, lowercases the input, enabling case-insensitivity. Defaults to `False`.\n",
              "    force (`bool`): If `True`, insists that your tokenized input is actually detokenized. Defaults to `False`.\n",
              "    use_effective_order (`bool`): If `True`, stops including n-gram orders for which precision is 0. This should be `True`, if sentence-level BLEU will be computed. Defaults to `False`.\n",
              "\n",
              "Returns:\n",
              "    'score': BLEU score,\n",
              "    'counts': Counts,\n",
              "    'totals': Totals,\n",
              "    'precisions': Precisions,\n",
              "    'bp': Brevity penalty,\n",
              "    'sys_len': predictions length,\n",
              "    'ref_len': reference length,\n",
              "\n",
              "Examples:\n",
              "\n",
              "    Example 1:\n",
              "        >>> predictions = [\"hello there general kenobi\", \"foo bar foobar\"]\n",
              "        >>> references = [[\"hello there general kenobi\", \"hello there !\"], [\"foo bar foobar\", \"foo bar foobar\"]]\n",
              "        >>> sacrebleu = datasets.load_metric(\"sacrebleu\")\n",
              "        >>> results = sacrebleu.compute(predictions=predictions, references=references)\n",
              "        >>> print(list(results.keys()))\n",
              "        ['score', 'counts', 'totals', 'precisions', 'bp', 'sys_len', 'ref_len']\n",
              "        >>> print(round(results[\"score\"], 1))\n",
              "        100.0\n",
              "\n",
              "    Example 2:\n",
              "        >>> predictions = [\"hello there general kenobi\",\n",
              "        ...                 \"on our way to ankh morpork\"]\n",
              "        >>> references = [[\"hello there general kenobi\", \"hello there !\"],\n",
              "        ...                 [\"goodbye ankh morpork\", \"ankh morpork\"]]\n",
              "        >>> sacrebleu = datasets.load_metric(\"sacrebleu\")\n",
              "        >>> results = sacrebleu.compute(predictions=predictions,\n",
              "        ...                             references=references)\n",
              "        >>> print(list(results.keys()))\n",
              "        ['score', 'counts', 'totals', 'precisions', 'bp', 'sys_len', 'ref_len']\n",
              "        >>> print(round(results[\"score\"], 1))\n",
              "        39.8\n",
              "\"\"\", stored examples: 0)"
            ]
          },
          "metadata": {},
          "execution_count": 9
        }
      ]
    },
    {
      "cell_type": "markdown",
      "metadata": {
        "id": "N6OLK8GQB8lK"
      },
      "source": [
        "You can call its compute method with your predictions and labels, which need to be list of decoded strings (list of list for the labels):"
      ]
    },
    {
      "cell_type": "code",
      "metadata": {
        "execution": {
          "iopub.status.busy": "2021-09-29T08:57:05.238213Z",
          "iopub.execute_input": "2021-09-29T08:57:05.239214Z",
          "iopub.status.idle": "2021-09-29T08:57:05.262753Z",
          "shell.execute_reply.started": "2021-09-29T08:57:05.239178Z",
          "shell.execute_reply": "2021-09-29T08:57:05.262047Z"
        },
        "trusted": true,
        "colab": {
          "base_uri": "https://localhost:8080/"
        },
        "id": "G24hShAwx5Uj",
        "outputId": "a021ec37-af81-4e27-9715-6bc34c646e7c"
      },
      "source": [
        "fake_preds = [\"hello there\", \"general kenobi\"]\n",
        "fake_labels = [[\"hello there\"], [\"general kenobi\"]]\n",
        "metric.compute(predictions=fake_preds, references=fake_labels)"
      ],
      "execution_count": null,
      "outputs": [
        {
          "output_type": "execute_result",
          "data": {
            "text/plain": [
              "{'score': 0.0,\n",
              " 'counts': [4, 2, 0, 0],\n",
              " 'totals': [4, 2, 0, 0],\n",
              " 'precisions': [100.0, 100.0, 0.0, 0.0],\n",
              " 'bp': 1.0,\n",
              " 'sys_len': 4,\n",
              " 'ref_len': 4}"
            ]
          },
          "metadata": {},
          "execution_count": 10
        }
      ]
    },
    {
      "cell_type": "markdown",
      "metadata": {
        "id": "-6HmkA7uCWRa"
      },
      "source": [
        "# Preprocessing the data\n",
        "\n",
        "Before we can feed those texts to our model, we need to preprocess them. This is done by a Transformers Tokenizer which will (as the name indicates) tokenize the inputs (including converting the tokens to their corresponding IDs in the pretrained vocabulary) and put it in a format the model expects, as well as generate the other inputs that model requires.\n",
        "\n",
        "To do all of this, we instantiate our tokenizer with the AutoTokenizer.from_pretrained method, which will ensure:\n",
        "\n",
        "we get a tokenizer that corresponds to the model architecture we want to use,\n",
        "we download the vocabulary used when pretraining this specific checkpoint.\n",
        "That vocabulary will be cached, so it's not downloaded again the next time we run the cell.\n",
        "\n",
        "If you downloaded the model manually, you can provide model present directory instead of model_checkpoint"
      ]
    },
    {
      "cell_type": "code",
      "metadata": {
        "execution": {
          "iopub.status.busy": "2021-09-29T08:57:05.264428Z",
          "iopub.execute_input": "2021-09-29T08:57:05.265184Z",
          "iopub.status.idle": "2021-09-29T08:57:08.584943Z",
          "shell.execute_reply.started": "2021-09-29T08:57:05.265148Z",
          "shell.execute_reply": "2021-09-29T08:57:08.584106Z"
        },
        "trusted": true,
        "colab": {
          "base_uri": "https://localhost:8080/"
        },
        "id": "agDlgrOix5Uj",
        "outputId": "9d13849b-30fd-49d2-a94e-919dd9425c29"
      },
      "source": [
        "from transformers import AutoTokenizer\n",
        "\n",
        "tokenizer = AutoTokenizer.from_pretrained(model_checkpoint)"
      ],
      "execution_count": null,
      "outputs": [
        {
          "output_type": "stream",
          "name": "stderr",
          "text": [
            "/usr/local/lib/python3.10/dist-packages/transformers/models/marian/tokenization_marian.py:197: UserWarning: Recommended: pip install sacremoses.\n",
            "  warnings.warn(\"Recommended: pip install sacremoses.\")\n"
          ]
        }
      ]
    },
    {
      "cell_type": "markdown",
      "metadata": {
        "id": "zbih6yhKG9JB"
      },
      "source": [
        "You can directly call this tokenizer on one sentence or a pair of sentences:"
      ]
    },
    {
      "cell_type": "code",
      "metadata": {
        "execution": {
          "iopub.status.busy": "2021-09-29T08:57:08.586536Z",
          "iopub.execute_input": "2021-09-29T08:57:08.586825Z",
          "iopub.status.idle": "2021-09-29T08:57:08.595450Z",
          "shell.execute_reply.started": "2021-09-29T08:57:08.586787Z",
          "shell.execute_reply": "2021-09-29T08:57:08.594622Z"
        },
        "trusted": true,
        "colab": {
          "base_uri": "https://localhost:8080/"
        },
        "id": "j9XTBM27x5Uk",
        "outputId": "d3323929-d1b2-4800-ac56-37fe06be1d18"
      },
      "source": [
        "tokenizer([\"Hello, this one sentence!\", \"This is another sentence.\"])"
      ],
      "execution_count": null,
      "outputs": [
        {
          "output_type": "execute_result",
          "data": {
            "text/plain": [
              "{'input_ids': [[16816, 2, 60, 128, 12512, 68, 0], [140, 19, 811, 12512, 3, 0]], 'attention_mask': [[1, 1, 1, 1, 1, 1, 1], [1, 1, 1, 1, 1, 1]]}"
            ]
          },
          "metadata": {},
          "execution_count": 12
        }
      ]
    },
    {
      "cell_type": "markdown",
      "metadata": {
        "id": "Lf2HfvKdHCeS"
      },
      "source": [
        "To prepare the targets for our model, we need to tokenize them inside the as_target_tokenizer context manager. This will make sure the tokenizer uses the special tokens corresponding to the targets:"
      ]
    },
    {
      "cell_type": "code",
      "metadata": {
        "execution": {
          "iopub.status.busy": "2021-09-29T08:57:08.597236Z",
          "iopub.execute_input": "2021-09-29T08:57:08.597782Z",
          "iopub.status.idle": "2021-09-29T08:57:08.605966Z",
          "shell.execute_reply.started": "2021-09-29T08:57:08.597745Z",
          "shell.execute_reply": "2021-09-29T08:57:08.605056Z"
        },
        "trusted": true,
        "colab": {
          "base_uri": "https://localhost:8080/"
        },
        "id": "qvYg6BXJx5Ul",
        "outputId": "39f9da9c-d483-45dd-a5ed-d1f638f00c7c"
      },
      "source": [
        "with tokenizer.as_target_tokenizer():\n",
        "    print(tokenizer([\"Hello, this one sentence!\", \"This is another sentence.\"]))"
      ],
      "execution_count": null,
      "outputs": [
        {
          "output_type": "stream",
          "name": "stdout",
          "text": [
            "{'input_ids': [[8152, 166, 2, 60, 32, 18, 7795, 46, 2066, 68, 0], [140, 19, 39, 5748, 45, 7795, 46, 2066, 3, 0]], 'attention_mask': [[1, 1, 1, 1, 1, 1, 1, 1, 1, 1, 1], [1, 1, 1, 1, 1, 1, 1, 1, 1, 1]]}\n"
          ]
        },
        {
          "output_type": "stream",
          "name": "stderr",
          "text": [
            "/usr/local/lib/python3.10/dist-packages/transformers/tokenization_utils_base.py:3856: UserWarning: `as_target_tokenizer` is deprecated and will be removed in v5 of Transformers. You can tokenize your labels by using the argument `text_target` of the regular `__call__` method (either in the same call as your input texts if you use the same keyword arguments, or in a separate call.\n",
            "  warnings.warn(\n"
          ]
        }
      ]
    },
    {
      "cell_type": "markdown",
      "metadata": {
        "id": "AgjkiP5wHNc0"
      },
      "source": [
        "We can then write the function that will preprocess our samples. We just feed them to the tokenizer with the argument truncation=True. This will ensure that an input longer that what the model selected can handle will be truncated to the maximum length accepted by the model. The padding will be dealt with later on (in a data collator) so we pad examples to the longest length in the batch and not the whole dataset."
      ]
    },
    {
      "cell_type": "code",
      "metadata": {
        "execution": {
          "iopub.status.busy": "2021-09-29T08:57:08.607739Z",
          "iopub.execute_input": "2021-09-29T08:57:08.608929Z",
          "iopub.status.idle": "2021-09-29T08:57:08.618192Z",
          "shell.execute_reply.started": "2021-09-29T08:57:08.608897Z",
          "shell.execute_reply": "2021-09-29T08:57:08.617265Z"
        },
        "trusted": true,
        "id": "e1fnOpO6x5Um"
      },
      "source": [
        "prefix = \"\"\n",
        "max_input_length = 128\n",
        "max_target_length = 128\n",
        "source_lang = \"en\"\n",
        "target_lang = \"de\"\n",
        "def preprocess_function(examples):\n",
        "    inputs = [prefix + ex[source_lang] for ex in examples[\"translation\"]]\n",
        "    targets = [ex[target_lang] for ex in examples[\"translation\"]]\n",
        "    model_inputs = tokenizer(inputs, max_length=max_input_length, truncation=True)\n",
        "    # Setup the tokenizer for targets\n",
        "    with tokenizer.as_target_tokenizer():\n",
        "        labels = tokenizer(targets, max_length=max_target_length, truncation=True)\n",
        "    model_inputs[\"labels\"] = labels[\"input_ids\"]\n",
        "    return model_inputs"
      ],
      "execution_count": null,
      "outputs": []
    },
    {
      "cell_type": "code",
      "metadata": {
        "execution": {
          "iopub.status.busy": "2021-09-29T08:57:08.619715Z",
          "iopub.execute_input": "2021-09-29T08:57:08.620404Z",
          "iopub.status.idle": "2021-09-29T08:57:08.631201Z",
          "shell.execute_reply.started": "2021-09-29T08:57:08.620369Z",
          "shell.execute_reply": "2021-09-29T08:57:08.630353Z"
        },
        "trusted": true,
        "colab": {
          "base_uri": "https://localhost:8080/"
        },
        "id": "9uXJ6SFex5Un",
        "outputId": "1e20ee38-e391-4a6e-ccb0-401a499693b8"
      },
      "source": [
        "preprocess_function(raw_datasets['train'][:2])"
      ],
      "execution_count": null,
      "outputs": [
        {
          "output_type": "execute_result",
          "data": {
            "text/plain": [
              "{'input_ids': [[465, 32932, 7, 4, 6274, 0], [38, 18950, 38309, 4, 6274, 7, 4, 151, 626, 3059, 29423, 8575, 32, 5682, 507, 1088, 17129, 8, 38, 206, 209, 1430, 696, 12, 2455, 41, 14, 3360, 168, 332, 5, 4, 2190, 35, 41, 13489, 14, 8375, 39030, 712, 3, 0]], 'attention_mask': [[1, 1, 1, 1, 1, 1], [1, 1, 1, 1, 1, 1, 1, 1, 1, 1, 1, 1, 1, 1, 1, 1, 1, 1, 1, 1, 1, 1, 1, 1, 1, 1, 1, 1, 1, 1, 1, 1, 1, 1, 1, 1, 1, 1, 1, 1, 1, 1]], 'labels': [[35999, 9, 4371, 25478, 0], [105, 34827, 11, 121, 5736, 2, 57, 4675, 1128, 25548, 18, 4371, 25478, 40, 320, 1396, 28, 427, 1726, 9692, 2, 23987, 373, 17617, 667, 8448, 123, 1926, 5806, 10, 6497, 2, 194, 42, 4681, 7677, 1451, 3, 0]]}"
            ]
          },
          "metadata": {},
          "execution_count": 15
        }
      ]
    },
    {
      "cell_type": "markdown",
      "metadata": {
        "id": "h8ZDByENHTtO"
      },
      "source": [
        "To apply this function on all the pairs of sentences in our dataset, we just use the map method of our dataset object we created earlier. This will apply the function on all the elements of all the splits in dataset, so our training, validation and testing data will be preprocessed in one single command"
      ]
    },
    {
      "cell_type": "code",
      "metadata": {
        "execution": {
          "iopub.status.busy": "2021-09-29T08:57:08.633273Z",
          "iopub.execute_input": "2021-09-29T08:57:08.633591Z",
          "iopub.status.idle": "2021-09-29T08:57:11.523108Z",
          "shell.execute_reply.started": "2021-09-29T08:57:08.633559Z",
          "shell.execute_reply": "2021-09-29T08:57:11.522369Z"
        },
        "trusted": true,
        "id": "uZlsJFZnx5Uo"
      },
      "source": [
        "tokenized_datasets = raw_datasets.map(preprocess_function, batched=True)"
      ],
      "execution_count": null,
      "outputs": []
    },
    {
      "cell_type": "markdown",
      "metadata": {
        "id": "b4kA3jpsHcFE"
      },
      "source": [
        "## Fine-tuning the model"
      ]
    },
    {
      "cell_type": "markdown",
      "metadata": {
        "id": "ooZLnaC1HhBq"
      },
      "source": [
        "Now that our data is ready, we can download the pretrained model and fine-tune it. Since our task is of the sequence-to-sequence kind, we use the AutoModelForSeq2SeqLM class. Like with the tokenizer, the from_pretrained method will download and cache the model for us."
      ]
    },
    {
      "cell_type": "code",
      "metadata": {
        "execution": {
          "iopub.status.busy": "2021-09-29T08:57:11.527425Z",
          "iopub.execute_input": "2021-09-29T08:57:11.528330Z",
          "iopub.status.idle": "2021-09-29T08:57:22.585417Z",
          "shell.execute_reply.started": "2021-09-29T08:57:11.528289Z",
          "shell.execute_reply": "2021-09-29T08:57:22.584582Z"
        },
        "trusted": true,
        "id": "IvrIjd-Lx5Uq"
      },
      "source": [
        "from transformers import AutoModelForSeq2SeqLM, DataCollatorForSeq2Seq, Seq2SeqTrainingArguments, Seq2SeqTrainer\n",
        "model = AutoModelForSeq2SeqLM.from_pretrained(model_checkpoint)"
      ],
      "execution_count": null,
      "outputs": []
    },
    {
      "cell_type": "markdown",
      "metadata": {
        "id": "jPagNnmWHoQW"
      },
      "source": [
        "To instantiate a Seq2SeqTrainer, we will need to define three more things. The most important is the [Seq2SeqTrainingArguments](https://huggingface.co/transformers/main_classes/trainer.html#transformers.Seq2SeqTrainingArguments), which is a class that contains all the attributes to customize the training. It requires one folder name, which will be used to save the checkpoints of the model, and all other arguments are optional:"
      ]
    },
    {
      "cell_type": "code",
      "source": [
        "accelerate.__version__"
      ],
      "metadata": {
        "id": "PVjt2KBmkqIL",
        "outputId": "3bdb3952-99dd-40cb-fbd5-9d3a0462efa8",
        "colab": {
          "base_uri": "https://localhost:8080/",
          "height": 36
        }
      },
      "execution_count": null,
      "outputs": [
        {
          "output_type": "execute_result",
          "data": {
            "text/plain": [
              "'0.25.0'"
            ],
            "application/vnd.google.colaboratory.intrinsic+json": {
              "type": "string"
            }
          },
          "metadata": {},
          "execution_count": 21
        }
      ]
    },
    {
      "cell_type": "code",
      "source": [
        "import accelerate\n",
        "import transformers"
      ],
      "metadata": {
        "id": "jnwatFjiktQW"
      },
      "execution_count": null,
      "outputs": []
    },
    {
      "cell_type": "code",
      "metadata": {
        "execution": {
          "iopub.status.busy": "2021-09-29T08:57:22.586787Z",
          "iopub.execute_input": "2021-09-29T08:57:22.587052Z",
          "iopub.status.idle": "2021-09-29T08:57:22.635312Z",
          "shell.execute_reply.started": "2021-09-29T08:57:22.587019Z",
          "shell.execute_reply": "2021-09-29T08:57:22.634585Z"
        },
        "trusted": true,
        "colab": {
          "base_uri": "https://localhost:8080/"
        },
        "id": "qk2p1KEwx5Ur",
        "outputId": "480fa18d-2ba4-4410-e71e-4c87c73c3f8b"
      },
      "source": [
        "batch_size = 16\n",
        "model_name = model_checkpoint.split(\"/\")[-1]\n",
        "args = Seq2SeqTrainingArguments(\n",
        "    f\"{model_name}-finetuned-{source_lang}-to-{target_lang}\",\n",
        "    evaluation_strategy = \"epoch\",\n",
        "    learning_rate=2e-5,\n",
        "    per_device_train_batch_size=batch_size,\n",
        "    per_device_eval_batch_size=batch_size,\n",
        "    weight_decay=0.01,\n",
        "    save_total_limit=3,\n",
        "    num_train_epochs=1,\n",
        "    predict_with_generate=True\n",
        ")"
      ],
      "execution_count": null,
      "outputs": [
        {
          "output_type": "stream",
          "name": "stderr",
          "text": [
            "Using the `WANDB_DISABLED` environment variable is deprecated and will be removed in v5. Use the --report_to flag to control the integrations used for logging result (for instance --report_to none).\n"
          ]
        }
      ]
    },
    {
      "cell_type": "markdown",
      "metadata": {
        "id": "t9UUwvXCH8Op"
      },
      "source": [
        "Here we set the evaluation to be done at the end of each epoch, tweak the learning rate, use the batch_size defined at the top of the cell and customize the weight decay. Since the Seq2SeqTrainer will save the model regularly and our dataset is quite large, we tell it to make three saves maximum. Lastly, we use the predict_with_generate option (to properly generate summaries) and activate mixed precision training (to go a bit faster).\n",
        "\n",
        "Model will save under **{model_name}-finetuned-{source_lang}-to-{target_lang}** directory\n",
        "\n",
        "Then, we need a special kind of data collator, which will not only pad the inputs to the maximum length in the batch, but also the labels:"
      ]
    },
    {
      "cell_type": "code",
      "metadata": {
        "id": "Oat3xRW7Mgv6",
        "colab": {
          "base_uri": "https://localhost:8080/"
        },
        "outputId": "eed34c48-0f7e-47ca-f7d9-88b2eede0fd4"
      },
      "source": [
        "from google.colab import drive\n",
        "drive.mount('/content/drive')"
      ],
      "execution_count": null,
      "outputs": [
        {
          "output_type": "stream",
          "name": "stdout",
          "text": [
            "Mounted at /content/drive\n"
          ]
        }
      ]
    },
    {
      "cell_type": "code",
      "metadata": {
        "execution": {
          "iopub.status.busy": "2021-09-29T08:57:22.636796Z",
          "iopub.execute_input": "2021-09-29T08:57:22.637140Z",
          "iopub.status.idle": "2021-09-29T08:57:22.644241Z",
          "shell.execute_reply.started": "2021-09-29T08:57:22.637105Z",
          "shell.execute_reply": "2021-09-29T08:57:22.643139Z"
        },
        "trusted": true,
        "id": "qV9wfuvZx5Us"
      },
      "source": [
        "data_collator = DataCollatorForSeq2Seq(tokenizer, model=model)"
      ],
      "execution_count": null,
      "outputs": []
    },
    {
      "cell_type": "markdown",
      "metadata": {
        "id": "Jw7by60eH_p5"
      },
      "source": [
        "The last thing to define for our Seq2SeqTrainer is how to compute the metrics from the predictions. We need to define a function for this, which will just use the metric we loaded earlier, and we have to do a bit of pre-processing to decode the predictions into texts:"
      ]
    },
    {
      "cell_type": "code",
      "metadata": {
        "execution": {
          "iopub.status.busy": "2021-09-29T08:57:22.646196Z",
          "iopub.execute_input": "2021-09-29T08:57:22.646446Z",
          "iopub.status.idle": "2021-09-29T08:57:22.658436Z",
          "shell.execute_reply.started": "2021-09-29T08:57:22.646415Z",
          "shell.execute_reply": "2021-09-29T08:57:22.657573Z"
        },
        "trusted": true,
        "id": "mHqp_FFhx5Uu"
      },
      "source": [
        "import numpy as np\n",
        "def postprocess_text(preds, labels):\n",
        "    preds = [pred.strip() for pred in preds]\n",
        "    labels = [[label.strip()] for label in labels]\n",
        "    return preds, labels\n",
        "def compute_metrics(eval_preds):\n",
        "    preds, labels = eval_preds\n",
        "    if isinstance(preds, tuple):\n",
        "        preds = preds[0]\n",
        "    decoded_preds = tokenizer.batch_decode(preds, skip_special_tokens=True)\n",
        "    # Replace -100 in the labels as we can't decode them.\n",
        "    labels = np.where(labels != -100, labels, tokenizer.pad_token_id)\n",
        "    decoded_labels = tokenizer.batch_decode(labels, skip_special_tokens=True)\n",
        "    # Some simple post-processing\n",
        "    decoded_preds, decoded_labels = postprocess_text(decoded_preds, decoded_labels)\n",
        "    result = metric.compute(predictions=decoded_preds, references=decoded_labels)\n",
        "    result = {\"bleu\": result[\"score\"]}\n",
        "    prediction_lens = [np.count_nonzero(pred != tokenizer.pad_token_id) for pred in preds]\n",
        "    result[\"gen_len\"] = np.mean(prediction_lens)\n",
        "    result = {k: round(v, 4) for k, v in result.items()}\n",
        "    return result"
      ],
      "execution_count": null,
      "outputs": []
    },
    {
      "cell_type": "markdown",
      "metadata": {
        "id": "E_XK7px-IDkC"
      },
      "source": [
        "Then we just need to pass all of this along with our datasets to the Seq2SeqTrainer:"
      ]
    },
    {
      "cell_type": "code",
      "metadata": {
        "execution": {
          "iopub.status.busy": "2021-09-29T08:57:22.660242Z",
          "iopub.execute_input": "2021-09-29T08:57:22.660603Z",
          "iopub.status.idle": "2021-09-29T08:57:27.828358Z",
          "shell.execute_reply.started": "2021-09-29T08:57:22.660567Z",
          "shell.execute_reply": "2021-09-29T08:57:27.827587Z"
        },
        "trusted": true,
        "id": "c7zuF8rLx5Uy"
      },
      "source": [
        "trainer = Seq2SeqTrainer(\n",
        "    model,\n",
        "    args,\n",
        "    train_dataset=tokenized_datasets[\"train\"],\n",
        "    eval_dataset=tokenized_datasets[\"validation\"],\n",
        "    data_collator=data_collator,\n",
        "    tokenizer=tokenizer,\n",
        "    compute_metrics=compute_metrics\n",
        ")"
      ],
      "execution_count": null,
      "outputs": []
    },
    {
      "cell_type": "markdown",
      "metadata": {
        "id": "W1TskjmQIGKd"
      },
      "source": [
        "We can now finetune our model by just calling the train method:"
      ]
    },
    {
      "cell_type": "code",
      "metadata": {
        "execution": {
          "iopub.status.busy": "2021-09-29T08:57:27.830391Z",
          "iopub.execute_input": "2021-09-29T08:57:27.830598Z",
          "iopub.status.idle": "2021-09-29T12:56:49.229770Z",
          "shell.execute_reply.started": "2021-09-29T08:57:27.830575Z",
          "shell.execute_reply": "2021-09-29T12:56:49.228818Z"
        },
        "trusted": true,
        "id": "sonIRAfDx5Uz"
      },
      "source": [
        "trainer.train()"
      ],
      "execution_count": null,
      "outputs": []
    },
    {
      "cell_type": "code",
      "metadata": {
        "execution": {
          "iopub.status.busy": "2021-09-29T13:00:10.592481Z",
          "iopub.execute_input": "2021-09-29T13:00:10.592738Z",
          "iopub.status.idle": "2021-09-29T13:00:10.610861Z",
          "shell.execute_reply.started": "2021-09-29T13:00:10.592711Z",
          "shell.execute_reply": "2021-09-29T13:00:10.609931Z"
        },
        "trusted": true,
        "colab": {
          "base_uri": "https://localhost:8080/"
        },
        "id": "Y-SSyPwox5U1",
        "outputId": "1f1651d6-d821-4b01-b93d-8b8677105b13"
      },
      "source": [
        "import os\n",
        "for dirname, _, filenames in os.walk('opus-mt-en-de-finetuned-en-to-de'):\n",
        "    for filename in filenames:\n",
        "        print(os.path.join(dirname, filename))"
      ],
      "execution_count": null,
      "outputs": [
        {
          "output_type": "stream",
          "name": "stdout",
          "text": [
            "opus-mt-en-de-finetuned-en-to-de/runs/Dec01_18-51-28_d61510393f5e/events.out.tfevents.1701456755.d61510393f5e.10307.0\n",
            "opus-mt-en-de-finetuned-en-to-de/checkpoint-13000/training_args.bin\n",
            "opus-mt-en-de-finetuned-en-to-de/checkpoint-13000/model.safetensors\n",
            "opus-mt-en-de-finetuned-en-to-de/checkpoint-13000/config.json\n",
            "opus-mt-en-de-finetuned-en-to-de/checkpoint-13000/source.spm\n",
            "opus-mt-en-de-finetuned-en-to-de/checkpoint-13000/vocab.json\n",
            "opus-mt-en-de-finetuned-en-to-de/checkpoint-13000/rng_state.pth\n",
            "opus-mt-en-de-finetuned-en-to-de/checkpoint-13000/tokenizer_config.json\n",
            "opus-mt-en-de-finetuned-en-to-de/checkpoint-13000/generation_config.json\n",
            "opus-mt-en-de-finetuned-en-to-de/checkpoint-13000/optimizer.pt\n",
            "opus-mt-en-de-finetuned-en-to-de/checkpoint-13000/special_tokens_map.json\n",
            "opus-mt-en-de-finetuned-en-to-de/checkpoint-13000/scheduler.pt\n",
            "opus-mt-en-de-finetuned-en-to-de/checkpoint-13000/target.spm\n",
            "opus-mt-en-de-finetuned-en-to-de/checkpoint-13000/trainer_state.json\n",
            "opus-mt-en-de-finetuned-en-to-de/checkpoint-13500/training_args.bin\n",
            "opus-mt-en-de-finetuned-en-to-de/checkpoint-13500/model.safetensors\n",
            "opus-mt-en-de-finetuned-en-to-de/checkpoint-13500/config.json\n",
            "opus-mt-en-de-finetuned-en-to-de/checkpoint-13500/source.spm\n",
            "opus-mt-en-de-finetuned-en-to-de/checkpoint-13500/vocab.json\n",
            "opus-mt-en-de-finetuned-en-to-de/checkpoint-13500/rng_state.pth\n",
            "opus-mt-en-de-finetuned-en-to-de/checkpoint-13500/tokenizer_config.json\n",
            "opus-mt-en-de-finetuned-en-to-de/checkpoint-13500/generation_config.json\n",
            "opus-mt-en-de-finetuned-en-to-de/checkpoint-13500/optimizer.pt\n",
            "opus-mt-en-de-finetuned-en-to-de/checkpoint-13500/special_tokens_map.json\n",
            "opus-mt-en-de-finetuned-en-to-de/checkpoint-13500/scheduler.pt\n",
            "opus-mt-en-de-finetuned-en-to-de/checkpoint-13500/target.spm\n",
            "opus-mt-en-de-finetuned-en-to-de/checkpoint-13500/trainer_state.json\n",
            "opus-mt-en-de-finetuned-en-to-de/checkpoint-14000/training_args.bin\n",
            "opus-mt-en-de-finetuned-en-to-de/checkpoint-14000/model.safetensors\n",
            "opus-mt-en-de-finetuned-en-to-de/checkpoint-14000/config.json\n",
            "opus-mt-en-de-finetuned-en-to-de/checkpoint-14000/source.spm\n",
            "opus-mt-en-de-finetuned-en-to-de/checkpoint-14000/vocab.json\n",
            "opus-mt-en-de-finetuned-en-to-de/checkpoint-14000/rng_state.pth\n",
            "opus-mt-en-de-finetuned-en-to-de/checkpoint-14000/tokenizer_config.json\n",
            "opus-mt-en-de-finetuned-en-to-de/checkpoint-14000/generation_config.json\n",
            "opus-mt-en-de-finetuned-en-to-de/checkpoint-14000/optimizer.pt\n",
            "opus-mt-en-de-finetuned-en-to-de/checkpoint-14000/special_tokens_map.json\n",
            "opus-mt-en-de-finetuned-en-to-de/checkpoint-14000/scheduler.pt\n",
            "opus-mt-en-de-finetuned-en-to-de/checkpoint-14000/target.spm\n",
            "opus-mt-en-de-finetuned-en-to-de/checkpoint-14000/trainer_state.json\n"
          ]
        }
      ]
    },
    {
      "cell_type": "markdown",
      "metadata": {
        "id": "oeLJF9PJINyR"
      },
      "source": [
        "Our fine tuned model already saved under *opus-mt-en-de-finetuned-en-to-de/checkpoint-14000*\n",
        "\n",
        "Load the model and translate some text from english to german"
      ]
    },
    {
      "cell_type": "code",
      "metadata": {
        "execution": {
          "iopub.status.busy": "2021-09-29T13:05:05.324272Z",
          "iopub.execute_input": "2021-09-29T13:05:05.324871Z",
          "iopub.status.idle": "2021-09-29T13:05:05.504556Z",
          "shell.execute_reply.started": "2021-09-29T13:05:05.324816Z",
          "shell.execute_reply": "2021-09-29T13:05:05.503605Z"
        },
        "trusted": true,
        "colab": {
          "base_uri": "https://localhost:8080/"
        },
        "id": "kByQ_vxTx5U2",
        "outputId": "7efa7c0a-ad99-416e-8eec-6f1611c37569"
      },
      "source": [
        "from transformers import OpusMTModel, OpusTokenizer\n",
        "src_text = ['My name is Sarah and I live in London']\n",
        "\n",
        "model_name = 'opus-mt-en-de-finetuned-en-to-de/checkpoint-14000'\n",
        "tokenizer = OpusTokenizer.from_pretrained(model_name)\n",
        "print(tokenizer.supported_language_codes)\n"
      ],
      "execution_count": null,
      "outputs": [
        {
          "output_type": "stream",
          "name": "stdout",
          "text": [
            "[]\n"
          ]
        },
        {
          "output_type": "stream",
          "name": "stderr",
          "text": [
            "/usr/local/lib/python3.10/dist-packages/transformers/models/marian/tokenization_marian.py:197: UserWarning: Recommended: pip install sacremoses.\n",
            "  warnings.warn(\"Recommended: pip install sacremoses.\")\n"
          ]
        }
      ]
    },
    {
      "cell_type": "code",
      "metadata": {
        "execution": {
          "iopub.status.busy": "2021-09-29T13:05:11.158515Z",
          "iopub.execute_input": "2021-09-29T13:05:11.158790Z",
          "iopub.status.idle": "2021-09-29T13:05:18.690597Z",
          "shell.execute_reply.started": "2021-09-29T13:05:11.158763Z",
          "shell.execute_reply": "2021-09-29T13:05:18.689745Z"
        },
        "trusted": true,
        "colab": {
          "base_uri": "https://localhost:8080/"
        },
        "id": "4h_jIFZgx5U2",
        "outputId": "1d2bb56d-4621-461b-f96a-b5e8c925e661"
      },
      "source": [
        "model = OpusMTModel.from_pretrained(model_name)\n",
        "translated = model.generate(**tokenizer(src_text, return_tensors=\"pt\", padding=True))\n",
        "[tokenizer.decode(t, skip_special_tokens=True) for t in translated]"
      ],
      "execution_count": null,
      "outputs": [
        {
          "output_type": "execute_result",
          "data": {
            "text/plain": [
              "['Mein Name ist Sarah und ich lebe in London']"
            ]
          },
          "metadata": {},
          "execution_count": 32
        }
      ]
    },
    {
      "cell_type": "markdown",
      "metadata": {
        "id": "vjn5FnzPI0cS"
      },
      "source": [
        "our fine tune model is doing very good and close to google translator\n",
        "\n",
        "**input text** -> My name is Sarah and I live in London\n",
        "\n",
        "**fine-tune model prediction** -> Mein Name ist Sarah und ich lebe in London\n",
        "\n",
        "**google translator prediction** -> Mein Name ist Sarah und ich lebe in London\n",
        "\n",
        "![Screenshot (89).png](data:image/png;base64,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)\n",
        "\n"
      ]
    }
  ]
}
